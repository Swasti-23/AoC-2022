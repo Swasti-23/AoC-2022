{
  "nbformat": 4,
  "nbformat_minor": 0,
  "metadata": {
    "colab": {
      "provenance": [],
      "authorship_tag": "ABX9TyNcPG/ye4C0pTeYT+Lo6jBS",
      "include_colab_link": true
    },
    "kernelspec": {
      "name": "python3",
      "display_name": "Python 3"
    },
    "language_info": {
      "name": "python"
    }
  },
  "cells": [
    {
      "cell_type": "markdown",
      "metadata": {
        "id": "view-in-github",
        "colab_type": "text"
      },
      "source": [
        "<a href=\"https://colab.research.google.com/github/Swasti-23/AoC-2022/blob/main/Advent_of_code.ipynb\" target=\"_parent\"><img src=\"https://colab.research.google.com/assets/colab-badge.svg\" alt=\"Open In Colab\"/></a>"
      ]
    },
    {
      "cell_type": "code",
      "source": [
        "# advent of code day 6 part 2\n",
        "n= input(\"Enter a string\")\n",
        "l=len(n)\n",
        "marker=0\n",
        "for i in range(0,l-13):\n",
        "  a= n[i:i+14]\n",
        "  b=[]\n",
        "  for j in a:\n",
        "    if j not in b:\n",
        "      b.append(j)\n",
        "  if len(b)==14:\n",
        "    marker=i+14\n",
        "    break\n",
        "print(marker)\n"
      ],
      "metadata": {
        "id": "mFBY7RYtv-lj"
      },
      "execution_count": null,
      "outputs": []
    },
    {
      "cell_type": "code",
      "source": [
        "#advent of code day 10 part1\n",
        "N = int(input(\"Enter:\"))\n",
        "sum=1\n",
        "cycle=0\n",
        "signal=0\n",
        "for i in range(N):\n",
        "  a=input()\n",
        "  if a!=\"noop\":\n",
        "    a,b=a.split(\" \")\n",
        "  if a==\"noop\":\n",
        "    cycle+=1\n",
        "    if cycle in [20,60,100,140,180,220]:\n",
        "      signal+= sum*cycle\n",
        "  if a==\"addx\":\n",
        "    cycle+=1\n",
        "    if cycle in [20,60,100,140,180,220]:\n",
        "      signal+= sum*cycle\n",
        "    if cycle in [20,60,100,140,180,220]:\n",
        "      signal+=sum*cycle\n",
        "    sum+=int(b)\n",
        "print(signal)\n",
        "\n",
        "    \n"
      ],
      "metadata": {
        "id": "Iyl9Io_rtZ-X"
      },
      "execution_count": null,
      "outputs": []
    },
    {
      "cell_type": "code",
      "execution_count": null,
      "metadata": {
        "id": "j88crOkesy35"
      },
      "outputs": [],
      "source": [
        "#advent of code day 10 part2 \n",
        "N = int(input(\"Enter:\"))\n",
        "code=[]\n",
        "cycle=0\n",
        "add=1\n",
        "for i in range(N):\n",
        "  a=input()\n",
        "  if a!=\"noop\":\n",
        "    a,b=a.split(\" \")\n",
        "  if a==\"noop\":\n",
        "    cycle+=1\n",
        "    if cycle>40:\n",
        "      cycle=cycle-40\n",
        "    if cycle==add or cycle==(add+1) or cycle==(add+2):\n",
        "      code.append('#')\n",
        "    else:\n",
        "      code.append('.')\n",
        "  if a==\"addx\":\n",
        "    cycle+=1\n",
        "    if cycle>40:\n",
        "      cycle=cycle-40\n",
        "    if cycle==add or cycle==(add+1) or cycle==(add+2):\n",
        "      code.append('#')\n",
        "    else:\n",
        "      code.append('.')\n",
        "    cycle+=1\n",
        "    if cycle>40:\n",
        "      cycle=cycle-40\n",
        "    if cycle==add or cycle==(add+1) or cycle==(add+2):\n",
        "      code.append('#')\n",
        "    else:\n",
        "      code.append('.')\n",
        "    add+=int(b)\n",
        "print(code)"
      ]
    },
    {
      "cell_type": "code",
      "source": [
        "#advent of code day 5 part 1\n",
        "lst=[['H','T','Z','D'],['Q','R','W','T','G','C','S'],['P','B','F','Q','N','R','C','H'],['L','C','N','F','H','Z'],['G','L','F','Q','S'],['V','P','W','Z','B','R','C','S'],['Z','F','J'],['D','L','V','Z','R','H','Q'],['B','H','G','N','F','Z','L','D']]\n",
        "#lst=[['Z','N'],['M','C','D'],['P']]\n",
        "N=int(input(\"Enter:\"))\n",
        "for i in range(N):\n",
        "    a,b,c,d,f,e=input().split(\" \")\n",
        "    for j in range(int(b)):\n",
        "        lst[int(e)-1].append(lst[int(d)-1][-1])\n",
        "        lst[int(d)-1].pop()\n",
        "print(lst)"
      ],
      "metadata": {
        "id": "bYz8n6z6SKhj"
      },
      "execution_count": null,
      "outputs": []
    },
    {
      "cell_type": "code",
      "source": [
        "#advent of code day 5 part 2\n",
        "lst=[['H','T','Z','D'],['Q','R','W','T','G','C','S'],['P','B','F','Q','N','R','C','H'],['L','C','N','F','H','Z'],['G','L','F','Q','S'],['V','P','W','Z','B','R','C','S'],['Z','F','J'],['D','L','V','Z','R','H','Q'],['B','H','G','N','F','Z','L','D']]\n",
        "#lst=[['Z','N'],['M','C','D'],['P']]\n",
        "N=int(input(\"Enter:\"))\n",
        "for i in range(N):\n",
        "    a,b,c,d,f,e=input().split(\" \")\n",
        "    s=[]\n",
        "    for j in range(int(b)):\n",
        "        \n",
        "        s.append(lst[int(d)-1][-1])\n",
        "        lst[int(d)-1].pop()\n",
        "    s=s[::-1]\n",
        "    for k in s:\n",
        "      lst[int(e)-1].append(k)\n",
        "print(lst)"
      ],
      "metadata": {
        "id": "jrdnLTw1jZqJ"
      },
      "execution_count": null,
      "outputs": []
    },
    {
      "cell_type": "code",
      "source": [
        "#day 8 part1\n",
        "N=int(input(\"Enter:\"))\n",
        "s=[]\n",
        "for i in range(N):\n",
        "    n=input()\n",
        "    s.append(n)\n",
        "a=[]\n",
        "\n",
        "for i in s:\n",
        "    g=[]\n",
        "    for j in i:\n",
        "        g.append(int(j))\n",
        "    a.append(g)\n",
        "print(a)\n",
        "count=0\n",
        "for i in range(1,N-1):\n",
        "    for j in range(1,N-1):\n",
        "        q=a[i][j]\n",
        "        #top\n",
        "        max_top=0\n",
        "        for b in range(i):\n",
        "            if a[b][j]>max_top:\n",
        "                max_top=a[b][j]\n",
        "        #bottom\n",
        "        max_bottom=0\n",
        "        for c in range(i+1,N):\n",
        "            if a[c][j]>max_bottom:\n",
        "                max_bottom=a[c][j]\n",
        "        #left\n",
        "        max_left=0\n",
        "        for d in range(j):\n",
        "            if a[i][d]>max_left:\n",
        "                max_left=a[i][d]\n",
        "        #right\n",
        "        max_right=0\n",
        "        for e in range(j+1,N):\n",
        "            if a[i][e]>max_right:\n",
        "                max_right=a[i][e]\n",
        "        if q>max_top or q>max_bottom or q>max_left or q>max_right:\n",
        "            count+=1\n",
        "print(count)\n"
      ],
      "metadata": {
        "id": "RlvjnDb-3bl7"
      },
      "execution_count": null,
      "outputs": []
    }
  ]
}